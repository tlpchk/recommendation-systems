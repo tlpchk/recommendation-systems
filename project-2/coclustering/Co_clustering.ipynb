{
  "nbformat": 4,
  "nbformat_minor": 0,
  "metadata": {
    "colab": {
      "name": "Co-clustering",
      "provenance": [],
      "collapsed_sections": [],
      "toc_visible": true
    },
    "kernelspec": {
      "name": "python3",
      "display_name": "Python 3"
    }
  },
  "cells": [
    {
      "cell_type": "markdown",
      "metadata": {
        "id": "LXGmGKLB6e8H"
      },
      "source": [
        "# Przygotowanie środowiska colab"
      ]
    },
    {
      "cell_type": "code",
      "metadata": {
        "colab": {
          "base_uri": "https://localhost:8080/"
        },
        "id": "fmNYlawq4Whz",
        "outputId": "1c9d71f9-340b-43a4-90d8-96ddd07b4ad6"
      },
      "source": [
        "!pip install scikit-surprise"
      ],
      "execution_count": 1,
      "outputs": [
        {
          "output_type": "stream",
          "text": [
            "Collecting scikit-surprise\n",
            "\u001b[?25l  Downloading https://files.pythonhosted.org/packages/97/37/5d334adaf5ddd65da99fc65f6507e0e4599d092ba048f4302fe8775619e8/scikit-surprise-1.1.1.tar.gz (11.8MB)\n",
            "\u001b[K     |████████████████████████████████| 11.8MB 8.3MB/s \n",
            "\u001b[?25hRequirement already satisfied: joblib>=0.11 in /usr/local/lib/python3.7/dist-packages (from scikit-surprise) (1.0.1)\n",
            "Requirement already satisfied: numpy>=1.11.2 in /usr/local/lib/python3.7/dist-packages (from scikit-surprise) (1.19.5)\n",
            "Requirement already satisfied: scipy>=1.0.0 in /usr/local/lib/python3.7/dist-packages (from scikit-surprise) (1.4.1)\n",
            "Requirement already satisfied: six>=1.10.0 in /usr/local/lib/python3.7/dist-packages (from scikit-surprise) (1.15.0)\n",
            "Building wheels for collected packages: scikit-surprise\n",
            "  Building wheel for scikit-surprise (setup.py) ... \u001b[?25l\u001b[?25hdone\n",
            "  Created wheel for scikit-surprise: filename=scikit_surprise-1.1.1-cp37-cp37m-linux_x86_64.whl size=1617587 sha256=fe49925fc2c3c289246b997ec5c833547fc6b6a3bb06e310d7251b4dcc59f9b0\n",
            "  Stored in directory: /root/.cache/pip/wheels/78/9c/3d/41b419c9d2aff5b6e2b4c0fc8d25c538202834058f9ed110d0\n",
            "Successfully built scikit-surprise\n",
            "Installing collected packages: scikit-surprise\n",
            "Successfully installed scikit-surprise-1.1.1\n"
          ],
          "name": "stdout"
        }
      ]
    },
    {
      "cell_type": "code",
      "metadata": {
        "id": "B6pigpymnH1B"
      },
      "source": [
        "!ln -s /root/.surprise_data/ml-100k ml-100k"
      ],
      "execution_count": 2,
      "outputs": []
    },
    {
      "cell_type": "markdown",
      "metadata": {
        "id": "7ednYwCj6nbi"
      },
      "source": [
        "## Przygotowanie algorytmów i biblioteki surprise"
      ]
    },
    {
      "cell_type": "code",
      "metadata": {
        "id": "tcBvCAFuX6Dd"
      },
      "source": [
        "from surprise import SlopeOne\n",
        "from surprise import CoClustering\n",
        "\n",
        "from surprise import SVD\n",
        "from surprise import SVDpp\n",
        "from surprise import Dataset\n",
        "from surprise import accuracy\n",
        "from surprise.model_selection import cross_validate\n",
        "from surprise.model_selection import train_test_split\n",
        "from surprise.prediction_algorithms.random_pred import NormalPredictor"
      ],
      "execution_count": 3,
      "outputs": []
    },
    {
      "cell_type": "code",
      "metadata": {
        "colab": {
          "base_uri": "https://localhost:8080/"
        },
        "id": "dq74fPcRYD03",
        "outputId": "ae62f370-a025-4f4c-af3e-5b14a1b1f72d"
      },
      "source": [
        "data = Dataset.load_builtin('ml-100k', prompt=False)"
      ],
      "execution_count": 4,
      "outputs": [
        {
          "output_type": "stream",
          "text": [
            "Trying to download dataset from http://files.grouplens.org/datasets/movielens/ml-100k.zip...\n",
            "Done! Dataset ml-100k has been saved to /root/.surprise_data/ml-100k\n"
          ],
          "name": "stdout"
        }
      ]
    },
    {
      "cell_type": "code",
      "metadata": {
        "colab": {
          "base_uri": "https://localhost:8080/"
        },
        "id": "JFl26qLYYG2K",
        "outputId": "c632f1d9-6009-4d0c-d8bb-9a1cced2e812"
      },
      "source": [
        "full_data = data.build_full_trainset()\n",
        "print(\"Number of users: \", data.build_full_trainset().n_users)\n",
        "print(\"Number of movies: \", data.build_full_trainset().n_items)\n",
        "print(\"Number of ratings: \", data.build_full_trainset().n_ratings)\n",
        "print(\"Rating scale: \", data.build_full_trainset().rating_scale)"
      ],
      "execution_count": 5,
      "outputs": [
        {
          "output_type": "stream",
          "text": [
            "Number of users:  943\n",
            "Number of movies:  1682\n",
            "Number of ratings:  100000\n",
            "Rating scale:  (1, 5)\n"
          ],
          "name": "stdout"
        }
      ]
    },
    {
      "cell_type": "markdown",
      "metadata": {
        "id": "gZo3Etmk6y_B"
      },
      "source": [
        "# Eksperymenty dla różnych hiperparametrów - ilości klastrów"
      ]
    },
    {
      "cell_type": "code",
      "metadata": {
        "id": "MN_mdfZBYJ8T"
      },
      "source": [
        "algorithms = {\n",
        "    'SlopeOne': SlopeOne(),\n",
        "    'CoClustering': CoClustering(), # warości domyślne: 3, 3\n",
        "    'CoClustering_3': CoClustering(n_cltr_u = 3, n_cltr_i = 3),\n",
        "    'CoClustering_5': CoClustering(n_cltr_u = 5, n_cltr_i = 5),\n",
        "    'CoClustering_7': CoClustering(n_cltr_u = 7, n_cltr_i = 7),\n",
        "    'CoClustering_11': CoClustering(n_cltr_u = 11, n_cltr_i = 11),\n",
        "    'SVD': SVD(),\n",
        "    'SVDpp': SVDpp(),\n",
        "    'NormalPredictor': NormalPredictor()\n",
        "}"
      ],
      "execution_count": 8,
      "outputs": []
    },
    {
      "cell_type": "code",
      "metadata": {
        "colab": {
          "base_uri": "https://localhost:8080/"
        },
        "id": "q7lBkpBZn8CV",
        "outputId": "857277e2-c6be-4145-d1f5-1dbf56f140eb"
      },
      "source": [
        "for k in algorithms:\n",
        "  print(f'\\nAlgorithm {k}')\n",
        "  cross_validate(algorithms[k], data, measures=['MAE'], cv=5, verbose=True);"
      ],
      "execution_count": 9,
      "outputs": [
        {
          "output_type": "stream",
          "text": [
            "\n",
            "Algorithm SlopeOne\n",
            "Evaluating MAE of algorithm SlopeOne on 5 split(s).\n",
            "\n",
            "                  Fold 1  Fold 2  Fold 3  Fold 4  Fold 5  Mean    Std     \n",
            "MAE (testset)     0.7367  0.7452  0.7449  0.7438  0.7435  0.7428  0.0031  \n",
            "Fit time          1.18    1.12    1.18    1.13    1.14    1.15    0.03    \n",
            "Test time         4.46    4.23    4.31    4.37    4.26    4.33    0.08    \n",
            "\n",
            "Algorithm CoClustering\n",
            "Evaluating MAE of algorithm CoClustering on 5 split(s).\n",
            "\n",
            "                  Fold 1  Fold 2  Fold 3  Fold 4  Fold 5  Mean    Std     \n",
            "MAE (testset)     0.7660  0.7627  0.7514  0.7533  0.7485  0.7564  0.0068  \n",
            "Fit time          2.49    2.52    2.52    2.52    2.49    2.51    0.02    \n",
            "Test time         0.15    0.27    0.15    0.28    0.27    0.22    0.06    \n",
            "\n",
            "Algorithm CoClustering_3\n",
            "Evaluating MAE of algorithm CoClustering on 5 split(s).\n",
            "\n",
            "                  Fold 1  Fold 2  Fold 3  Fold 4  Fold 5  Mean    Std     \n",
            "MAE (testset)     0.7504  0.7701  0.7567  0.7503  0.7527  0.7561  0.0074  \n",
            "Fit time          2.50    2.55    2.54    2.53    2.56    2.54    0.02    \n",
            "Test time         0.16    0.28    0.15    0.29    0.15    0.21    0.07    \n",
            "\n",
            "Algorithm CoClustering_5\n",
            "Evaluating MAE of algorithm CoClustering on 5 split(s).\n",
            "\n",
            "                  Fold 1  Fold 2  Fold 3  Fold 4  Fold 5  Mean    Std     \n",
            "MAE (testset)     0.7563  0.7589  0.7581  0.7705  0.7488  0.7585  0.0070  \n",
            "Fit time          2.82    2.79    2.96    2.82    2.86    2.85    0.06    \n",
            "Test time         0.29    0.15    0.29    0.15    0.28    0.23    0.07    \n",
            "\n",
            "Algorithm CoClustering_7\n",
            "Evaluating MAE of algorithm CoClustering on 5 split(s).\n",
            "\n",
            "                  Fold 1  Fold 2  Fold 3  Fold 4  Fold 5  Mean    Std     \n",
            "MAE (testset)     0.7636  0.7690  0.7649  0.7509  0.7636  0.7624  0.0061  \n",
            "Fit time          3.19    3.13    3.24    3.14    3.20    3.18    0.04    \n",
            "Test time         0.31    0.15    0.31    0.15    0.31    0.25    0.08    \n",
            "\n",
            "Algorithm CoClustering_11\n",
            "Evaluating MAE of algorithm CoClustering on 5 split(s).\n",
            "\n",
            "                  Fold 1  Fold 2  Fold 3  Fold 4  Fold 5  Mean    Std     \n",
            "MAE (testset)     0.7620  0.7692  0.7733  0.7609  0.7635  0.7658  0.0047  \n",
            "Fit time          3.76    3.88    3.90    3.91    3.81    3.85    0.06    \n",
            "Test time         0.15    0.34    0.14    0.33    0.15    0.22    0.09    \n",
            "\n",
            "Algorithm SVD\n",
            "Evaluating MAE of algorithm SVD on 5 split(s).\n",
            "\n",
            "                  Fold 1  Fold 2  Fold 3  Fold 4  Fold 5  Mean    Std     \n",
            "MAE (testset)     0.7439  0.7389  0.7322  0.7390  0.7340  0.7376  0.0041  \n",
            "Fit time          4.99    5.00    5.03    4.95    5.01    5.00    0.03    \n",
            "Test time         0.39    0.20    0.39    0.20    0.37    0.31    0.09    \n",
            "\n",
            "Algorithm SVDpp\n",
            "Evaluating MAE of algorithm SVDpp on 5 split(s).\n",
            "\n",
            "                  Fold 1  Fold 2  Fold 3  Fold 4  Fold 5  Mean    Std     \n",
            "MAE (testset)     0.7139  0.7222  0.7248  0.7227  0.7245  0.7216  0.0040  \n",
            "Fit time          180.40  181.89  181.27  181.97  182.36  181.58  0.69    \n",
            "Test time         6.11    6.36    6.14    6.38    5.99    6.20    0.15    \n",
            "\n",
            "Algorithm NormalPredictor\n",
            "Evaluating MAE of algorithm NormalPredictor on 5 split(s).\n",
            "\n",
            "                  Fold 1  Fold 2  Fold 3  Fold 4  Fold 5  Mean    Std     \n",
            "MAE (testset)     1.2239  1.2108  1.2282  1.2177  1.2168  1.2195  0.0060  \n",
            "Fit time          0.17    0.19    0.19    0.20    0.18    0.18    0.01    \n",
            "Test time         0.41    0.19    0.40    0.19    0.40    0.32    0.10    \n"
          ],
          "name": "stdout"
        }
      ]
    },
    {
      "cell_type": "code",
      "metadata": {
        "id": "GESI-YSDoLf1"
      },
      "source": [
        "trainset, testset = train_test_split(data, test_size=.3)\n",
        "\n",
        "for k in algorithms:\n",
        "  algorithm = algorithms[k]\n",
        "  print(f'\\nAlgorithm {k}')\n",
        "  algorithm.fit(trainset)\n",
        "  predictions = algorithm.test(testset)\n",
        "  accuracy.mae(predictions)"
      ],
      "execution_count": null,
      "outputs": []
    }
  ]
}