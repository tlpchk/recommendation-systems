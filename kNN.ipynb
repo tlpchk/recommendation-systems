{
  "nbformat": 4,
  "nbformat_minor": 0,
  "metadata": {
    "colab": {
      "name": "kNN",
      "provenance": []
    },
    "kernelspec": {
      "name": "python3",
      "display_name": "Python 3"
    }
  },
  "cells": [
    {
      "cell_type": "code",
      "metadata": {
        "colab": {
          "base_uri": "https://localhost:8080/"
        },
        "id": "fmNYlawq4Whz",
        "outputId": "0d1d41b1-9d5d-4a4f-e9a4-dc7171962f08"
      },
      "source": [
        "!pip install scikit-surprise"
      ],
      "execution_count": 1,
      "outputs": [
        {
          "output_type": "stream",
          "text": [
            "Requirement already satisfied: scikit-surprise in /usr/local/lib/python3.7/dist-packages (1.1.1)\n",
            "Requirement already satisfied: numpy>=1.11.2 in /usr/local/lib/python3.7/dist-packages (from scikit-surprise) (1.19.5)\n",
            "Requirement already satisfied: scipy>=1.0.0 in /usr/local/lib/python3.7/dist-packages (from scikit-surprise) (1.4.1)\n",
            "Requirement already satisfied: six>=1.10.0 in /usr/local/lib/python3.7/dist-packages (from scikit-surprise) (1.15.0)\n",
            "Requirement already satisfied: joblib>=0.11 in /usr/local/lib/python3.7/dist-packages (from scikit-surprise) (1.0.1)\n"
          ],
          "name": "stdout"
        }
      ]
    },
    {
      "cell_type": "code",
      "metadata": {
        "id": "tcBvCAFuX6Dd"
      },
      "source": [
        "from surprise import KNNBasic\r\n",
        "from surprise import KNNWithMeans\r\n",
        "from surprise import KNNWithZScore\r\n",
        "from surprise import KNNBaseline\r\n",
        "from surprise import Dataset\r\n",
        "from surprise import accuracy\r\n",
        "from surprise.model_selection import cross_validate\r\n",
        "from surprise.model_selection import train_test_split\r\n",
        "from surprise.prediction_algorithms.random_pred import NormalPredictor"
      ],
      "execution_count": 2,
      "outputs": []
    },
    {
      "cell_type": "code",
      "metadata": {
        "id": "dq74fPcRYD03"
      },
      "source": [
        "data = Dataset.load_builtin('ml-100k')"
      ],
      "execution_count": 3,
      "outputs": []
    },
    {
      "cell_type": "code",
      "metadata": {
        "colab": {
          "base_uri": "https://localhost:8080/"
        },
        "id": "JFl26qLYYG2K",
        "outputId": "35adefd0-fef4-498e-cddb-8823337f331f"
      },
      "source": [
        "full_data = data.build_full_trainset()\r\n",
        "print(\"Number of users: \", data.build_full_trainset().n_users)\r\n",
        "print(\"Number of movies: \", data.build_full_trainset().n_items)\r\n",
        "print(\"Number of ratings: \", data.build_full_trainset().n_ratings)\r\n",
        "print(\"Rating scale: \", data.build_full_trainset().rating_scale)"
      ],
      "execution_count": 4,
      "outputs": [
        {
          "output_type": "stream",
          "text": [
            "Number of users:  943\n",
            "Number of movies:  1682\n",
            "Number of ratings:  100000\n",
            "Rating scale:  (1, 5)\n"
          ],
          "name": "stdout"
        }
      ]
    },
    {
      "cell_type": "code",
      "metadata": {
        "id": "MN_mdfZBYJ8T"
      },
      "source": [
        "algorithms = {\r\n",
        "    'KNNBasic': KNNBasic(),\r\n",
        "    'KNNWithMeans': KNNWithMeans(),\r\n",
        "    'KNNWithZScore': KNNWithZScore(),\r\n",
        "    'KNNBaseline': KNNBaseline(),\r\n",
        "    'NormalPredictor': NormalPredictor()\r\n",
        "}"
      ],
      "execution_count": 5,
      "outputs": []
    },
    {
      "cell_type": "code",
      "metadata": {
        "colab": {
          "base_uri": "https://localhost:8080/"
        },
        "id": "oNmdBfK-YL7I",
        "outputId": "8b24762b-af7d-4bd2-876b-4925d3fb1389"
      },
      "source": [
        "for k in algorithms:\r\n",
        "  print(f'\\nAlgorithm {k}')\r\n",
        "  cross_validate(algorithms[k], data, measures=['MAE'], cv=5, verbose=True);"
      ],
      "execution_count": 6,
      "outputs": [
        {
          "output_type": "stream",
          "text": [
            "\n",
            "Algorithm KNNBasic\n",
            "Computing the msd similarity matrix...\n",
            "Done computing similarity matrix.\n",
            "Computing the msd similarity matrix...\n",
            "Done computing similarity matrix.\n",
            "Computing the msd similarity matrix...\n",
            "Done computing similarity matrix.\n",
            "Computing the msd similarity matrix...\n",
            "Done computing similarity matrix.\n",
            "Computing the msd similarity matrix...\n",
            "Done computing similarity matrix.\n",
            "Evaluating MAE of algorithm KNNBasic on 5 split(s).\n",
            "\n",
            "                  Fold 1  Fold 2  Fold 3  Fold 4  Fold 5  Mean    Std     \n",
            "MAE (testset)     0.7717  0.7777  0.7757  0.7743  0.7672  0.7733  0.0036  \n",
            "Fit time          0.30    0.36    0.32    0.32    0.32    0.32    0.02    \n",
            "Test time         3.37    3.40    3.42    3.40    3.25    3.37    0.06    \n",
            "\n",
            "Algorithm KNNWithMeans\n",
            "Computing the msd similarity matrix...\n",
            "Done computing similarity matrix.\n",
            "Computing the msd similarity matrix...\n",
            "Done computing similarity matrix.\n",
            "Computing the msd similarity matrix...\n",
            "Done computing similarity matrix.\n",
            "Computing the msd similarity matrix...\n",
            "Done computing similarity matrix.\n",
            "Computing the msd similarity matrix...\n",
            "Done computing similarity matrix.\n",
            "Evaluating MAE of algorithm KNNWithMeans on 5 split(s).\n",
            "\n",
            "                  Fold 1  Fold 2  Fold 3  Fold 4  Fold 5  Mean    Std     \n",
            "MAE (testset)     0.7491  0.7513  0.7500  0.7516  0.7420  0.7488  0.0035  \n",
            "Fit time          0.31    0.35    0.34    0.35    0.34    0.34    0.02    \n",
            "Test time         3.44    3.46    3.40    3.46    3.60    3.47    0.07    \n",
            "\n",
            "Algorithm KNNWithZScore\n",
            "Computing the msd similarity matrix...\n",
            "Done computing similarity matrix.\n",
            "Computing the msd similarity matrix...\n",
            "Done computing similarity matrix.\n",
            "Computing the msd similarity matrix...\n",
            "Done computing similarity matrix.\n",
            "Computing the msd similarity matrix...\n",
            "Done computing similarity matrix.\n",
            "Computing the msd similarity matrix...\n",
            "Done computing similarity matrix.\n",
            "Evaluating MAE of algorithm KNNWithZScore on 5 split(s).\n",
            "\n",
            "                  Fold 1  Fold 2  Fold 3  Fold 4  Fold 5  Mean    Std     \n",
            "MAE (testset)     0.7520  0.7480  0.7468  0.7445  0.7389  0.7460  0.0043  \n",
            "Fit time          0.38    0.41    0.43    0.39    0.42    0.41    0.02    \n",
            "Test time         3.65    3.65    3.76    3.73    3.86    3.73    0.08    \n",
            "\n",
            "Algorithm KNNBaseline\n",
            "Estimating biases using als...\n",
            "Computing the msd similarity matrix...\n",
            "Done computing similarity matrix.\n",
            "Estimating biases using als...\n",
            "Computing the msd similarity matrix...\n",
            "Done computing similarity matrix.\n",
            "Estimating biases using als...\n",
            "Computing the msd similarity matrix...\n",
            "Done computing similarity matrix.\n",
            "Estimating biases using als...\n",
            "Computing the msd similarity matrix...\n",
            "Done computing similarity matrix.\n",
            "Estimating biases using als...\n",
            "Computing the msd similarity matrix...\n",
            "Done computing similarity matrix.\n",
            "Evaluating MAE of algorithm KNNBaseline on 5 split(s).\n",
            "\n",
            "                  Fold 1  Fold 2  Fold 3  Fold 4  Fold 5  Mean    Std     \n",
            "MAE (testset)     0.7315  0.7287  0.7336  0.7367  0.7314  0.7324  0.0026  \n",
            "Fit time          0.56    0.59    0.56    0.54    0.58    0.56    0.02    \n",
            "Test time         3.96    3.90    3.97    3.95    3.88    3.93    0.03    \n",
            "\n",
            "Algorithm NormalPredictor\n",
            "Evaluating MAE of algorithm NormalPredictor on 5 split(s).\n",
            "\n",
            "                  Fold 1  Fold 2  Fold 3  Fold 4  Fold 5  Mean    Std     \n",
            "MAE (testset)     1.2095  1.2183  1.2253  1.2253  1.2110  1.2179  0.0068  \n",
            "Fit time          0.12    0.15    0.15    0.15    0.15    0.15    0.01    \n",
            "Test time         0.24    0.13    0.24    0.13    0.24    0.20    0.05    \n"
          ],
          "name": "stdout"
        }
      ]
    },
    {
      "cell_type": "code",
      "metadata": {
        "colab": {
          "base_uri": "https://localhost:8080/"
        },
        "id": "PBiafzdCYN7M",
        "outputId": "dc43811b-c074-454c-9155-dbe908cc4af8"
      },
      "source": [
        "trainset, testset = train_test_split(data, test_size=.3)\r\n",
        "\r\n",
        "for k in algorithms:\r\n",
        "  algorithm = algorithms[k]\r\n",
        "  print(f'\\nAlgorithm {k}')\r\n",
        "  algorithm.fit(trainset)\r\n",
        "  predictions = algorithm.test(testset)\r\n",
        "  accuracy.mae(predictions)\r\n"
      ],
      "execution_count": 7,
      "outputs": [
        {
          "output_type": "stream",
          "text": [
            "\n",
            "Algorithm KNNBasic\n",
            "Computing the msd similarity matrix...\n",
            "Done computing similarity matrix.\n",
            "MAE:  0.7789\n",
            "\n",
            "Algorithm KNNWithMeans\n",
            "Computing the msd similarity matrix...\n",
            "Done computing similarity matrix.\n",
            "MAE:  0.7525\n",
            "\n",
            "Algorithm KNNWithZScore\n",
            "Computing the msd similarity matrix...\n",
            "Done computing similarity matrix.\n",
            "MAE:  0.7500\n",
            "\n",
            "Algorithm KNNBaseline\n",
            "Estimating biases using als...\n",
            "Computing the msd similarity matrix...\n",
            "Done computing similarity matrix.\n",
            "MAE:  0.7383\n",
            "\n",
            "Algorithm NormalPredictor\n",
            "MAE:  1.2176\n"
          ],
          "name": "stdout"
        }
      ]
    },
    {
      "cell_type": "code",
      "metadata": {
        "id": "IkxURHrjaVwr"
      },
      "source": [
        ""
      ],
      "execution_count": 7,
      "outputs": []
    }
  ]
}