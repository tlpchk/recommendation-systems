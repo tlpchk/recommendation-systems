{
  "nbformat": 4,
  "nbformat_minor": 0,
  "metadata": {
    "colab": {
      "name": "kNN",
      "provenance": [],
      "collapsed_sections": []
    },
    "kernelspec": {
      "name": "python3",
      "display_name": "Python 3"
    }
  },
  "cells": [
    {
      "cell_type": "code",
      "metadata": {
        "colab": {
          "base_uri": "https://localhost:8080/"
        },
        "id": "fmNYlawq4Whz",
        "outputId": "99f1b7c5-e5b0-4aef-b295-3ce56a16baf2"
      },
      "source": [
        "!pip install scikit-surprise"
      ],
      "execution_count": 1,
      "outputs": [
        {
          "output_type": "stream",
          "text": [
            "Collecting scikit-surprise\n",
            "\u001b[?25l  Downloading https://files.pythonhosted.org/packages/97/37/5d334adaf5ddd65da99fc65f6507e0e4599d092ba048f4302fe8775619e8/scikit-surprise-1.1.1.tar.gz (11.8MB)\n",
            "\u001b[K     |████████████████████████████████| 11.8MB 347kB/s \n",
            "\u001b[?25hRequirement already satisfied: joblib>=0.11 in /usr/local/lib/python3.7/dist-packages (from scikit-surprise) (1.0.1)\n",
            "Requirement already satisfied: numpy>=1.11.2 in /usr/local/lib/python3.7/dist-packages (from scikit-surprise) (1.19.5)\n",
            "Requirement already satisfied: scipy>=1.0.0 in /usr/local/lib/python3.7/dist-packages (from scikit-surprise) (1.4.1)\n",
            "Requirement already satisfied: six>=1.10.0 in /usr/local/lib/python3.7/dist-packages (from scikit-surprise) (1.15.0)\n",
            "Building wheels for collected packages: scikit-surprise\n",
            "  Building wheel for scikit-surprise (setup.py) ... \u001b[?25l\u001b[?25hdone\n",
            "  Created wheel for scikit-surprise: filename=scikit_surprise-1.1.1-cp37-cp37m-linux_x86_64.whl size=1617552 sha256=20d9bd34f986a5d5d2abc7568d3cdf2b6f54fb506b1af235c1645bbcbdcda3c1\n",
            "  Stored in directory: /root/.cache/pip/wheels/78/9c/3d/41b419c9d2aff5b6e2b4c0fc8d25c538202834058f9ed110d0\n",
            "Successfully built scikit-surprise\n",
            "Installing collected packages: scikit-surprise\n",
            "Successfully installed scikit-surprise-1.1.1\n"
          ],
          "name": "stdout"
        }
      ]
    },
    {
      "cell_type": "code",
      "metadata": {
        "id": "tcBvCAFuX6Dd"
      },
      "source": [
        "from surprise import KNNBasic\r\n",
        "from surprise import KNNWithMeans\r\n",
        "from surprise import KNNWithZScore\r\n",
        "from surprise import KNNBaseline\r\n",
        "from surprise import SVD\r\n",
        "from surprise import SVDpp\r\n",
        "from surprise import Dataset\r\n",
        "from surprise import accuracy\r\n",
        "from surprise.model_selection import cross_validate\r\n",
        "from surprise.model_selection import train_test_split\r\n",
        "from surprise.prediction_algorithms.random_pred import NormalPredictor"
      ],
      "execution_count": 11,
      "outputs": []
    },
    {
      "cell_type": "code",
      "metadata": {
        "colab": {
          "base_uri": "https://localhost:8080/"
        },
        "id": "dq74fPcRYD03",
        "outputId": "fd82ee59-b2cd-456a-a21e-75b734285658"
      },
      "source": [
        "data = Dataset.load_builtin('ml-100k')"
      ],
      "execution_count": 3,
      "outputs": [
        {
          "output_type": "stream",
          "text": [
            "Dataset ml-100k could not be found. Do you want to download it? [Y/n] y\n",
            "Trying to download dataset from http://files.grouplens.org/datasets/movielens/ml-100k.zip...\n",
            "Done! Dataset ml-100k has been saved to /root/.surprise_data/ml-100k\n"
          ],
          "name": "stdout"
        }
      ]
    },
    {
      "cell_type": "code",
      "metadata": {
        "colab": {
          "base_uri": "https://localhost:8080/"
        },
        "id": "JFl26qLYYG2K",
        "outputId": "3d484dd9-c35c-4b2b-c9b9-50b015fedc57"
      },
      "source": [
        "full_data = data.build_full_trainset()\r\n",
        "print(\"Number of users: \", data.build_full_trainset().n_users)\r\n",
        "print(\"Number of movies: \", data.build_full_trainset().n_items)\r\n",
        "print(\"Number of ratings: \", data.build_full_trainset().n_ratings)\r\n",
        "print(\"Rating scale: \", data.build_full_trainset().rating_scale)"
      ],
      "execution_count": 4,
      "outputs": [
        {
          "output_type": "stream",
          "text": [
            "Number of users:  943\n",
            "Number of movies:  1682\n",
            "Number of ratings:  100000\n",
            "Rating scale:  (1, 5)\n"
          ],
          "name": "stdout"
        }
      ]
    },
    {
      "cell_type": "code",
      "metadata": {
        "id": "MN_mdfZBYJ8T"
      },
      "source": [
        "sim_cosine = {'name': 'cosine',\r\n",
        "               'user_based': False  # compute  similarities between items\r\n",
        "               }\r\n",
        "\r\n",
        "sim_pearson = {'name': 'pearson_baseline',\r\n",
        "               'shrinkage': 0  # no shrinkage\r\n",
        "               }\r\n",
        "\r\n",
        "algorithms = {\r\n",
        "    'KNNBasicC': KNNBasic(sim_options = sim_cosine),\r\n",
        "    'KNNBasicP': KNNBasic(sim_options = sim_pearson),\r\n",
        "    'KNNWithMeansC': KNNWithMeans(sim_options = sim_cosine),\r\n",
        "    'KNNWithMeansP': KNNWithMeans(sim_options = sim_pearson),\r\n",
        "    'KNNWithZScoreC': KNNWithZScore(sim_options = sim_cosine),\r\n",
        "    'KNNWithZScoreP': KNNWithZScore(sim_options = sim_pearson),\r\n",
        "    'KNNBaselineC': KNNBaseline(sim_options = sim_cosine),\r\n",
        "    'KNNBaselineP': KNNBaseline(sim_options = sim_pearson),\r\n",
        "    'SVD': SVD(),\r\n",
        "    'SVDpp': SVDpp(),\r\n",
        "    'NormalPredictor': NormalPredictor()\r\n",
        "}"
      ],
      "execution_count": 12,
      "outputs": []
    },
    {
      "cell_type": "code",
      "metadata": {
        "colab": {
          "base_uri": "https://localhost:8080/"
        },
        "id": "oNmdBfK-YL7I",
        "outputId": "1bbbae12-7bf2-4400-96a8-68c4fa5c110a"
      },
      "source": [
        "for k in algorithms:\r\n",
        "  print(f'\\nAlgorithm {k}')\r\n",
        "  cross_validate(algorithms[k], data, measures=['MAE'], cv=5, verbose=True);"
      ],
      "execution_count": 13,
      "outputs": [
        {
          "output_type": "stream",
          "text": [
            "\n",
            "Algorithm KNNBasicC\n",
            "Computing the cosine similarity matrix...\n",
            "Done computing similarity matrix.\n",
            "Computing the cosine similarity matrix...\n",
            "Done computing similarity matrix.\n",
            "Computing the cosine similarity matrix...\n",
            "Done computing similarity matrix.\n",
            "Computing the cosine similarity matrix...\n",
            "Done computing similarity matrix.\n",
            "Computing the cosine similarity matrix...\n",
            "Done computing similarity matrix.\n",
            "Evaluating MAE of algorithm KNNBasic on 5 split(s).\n",
            "\n",
            "                  Fold 1  Fold 2  Fold 3  Fold 4  Fold 5  Mean    Std     \n",
            "MAE (testset)     0.8097  0.8123  0.8103  0.8138  0.8161  0.8124  0.0023  \n",
            "Fit time          1.44    1.48    1.42    1.45    1.43    1.44    0.02    \n",
            "Test time         3.69    3.68    3.72    3.86    3.70    3.73    0.07    \n",
            "\n",
            "Algorithm KNNBasicP\n",
            "Estimating biases using als...\n",
            "Computing the pearson_baseline similarity matrix...\n",
            "Done computing similarity matrix.\n",
            "Estimating biases using als...\n",
            "Computing the pearson_baseline similarity matrix...\n",
            "Done computing similarity matrix.\n",
            "Estimating biases using als...\n",
            "Computing the pearson_baseline similarity matrix...\n",
            "Done computing similarity matrix.\n",
            "Estimating biases using als...\n",
            "Computing the pearson_baseline similarity matrix...\n",
            "Done computing similarity matrix.\n",
            "Estimating biases using als...\n",
            "Computing the pearson_baseline similarity matrix...\n",
            "Done computing similarity matrix.\n",
            "Evaluating MAE of algorithm KNNBasic on 5 split(s).\n",
            "\n",
            "                  Fold 1  Fold 2  Fold 3  Fold 4  Fold 5  Mean    Std     \n",
            "MAE (testset)     0.7988  0.7940  0.8058  0.7923  0.7978  0.7978  0.0047  \n",
            "Fit time          1.07    1.01    1.02    1.01    1.01    1.02    0.02    \n",
            "Test time         3.26    3.15    3.29    3.08    3.13    3.18    0.08    \n",
            "\n",
            "Algorithm KNNWithMeansC\n",
            "Computing the cosine similarity matrix...\n",
            "Done computing similarity matrix.\n",
            "Computing the cosine similarity matrix...\n",
            "Done computing similarity matrix.\n",
            "Computing the cosine similarity matrix...\n",
            "Done computing similarity matrix.\n",
            "Computing the cosine similarity matrix...\n",
            "Done computing similarity matrix.\n",
            "Computing the cosine similarity matrix...\n",
            "Done computing similarity matrix.\n",
            "Evaluating MAE of algorithm KNNWithMeans on 5 split(s).\n",
            "\n",
            "                  Fold 1  Fold 2  Fold 3  Fold 4  Fold 5  Mean    Std     \n",
            "MAE (testset)     0.7307  0.7379  0.7455  0.7484  0.7469  0.7419  0.0067  \n",
            "Fit time          1.42    1.49    1.45    1.47    1.44    1.45    0.02    \n",
            "Test time         3.94    3.82    3.89    3.80    3.84    3.86    0.05    \n",
            "\n",
            "Algorithm KNNWithMeansP\n",
            "Estimating biases using als...\n",
            "Computing the pearson_baseline similarity matrix...\n",
            "Done computing similarity matrix.\n",
            "Estimating biases using als...\n",
            "Computing the pearson_baseline similarity matrix...\n",
            "Done computing similarity matrix.\n",
            "Estimating biases using als...\n",
            "Computing the pearson_baseline similarity matrix...\n",
            "Done computing similarity matrix.\n",
            "Estimating biases using als...\n",
            "Computing the pearson_baseline similarity matrix...\n",
            "Done computing similarity matrix.\n",
            "Estimating biases using als...\n",
            "Computing the pearson_baseline similarity matrix...\n",
            "Done computing similarity matrix.\n",
            "Evaluating MAE of algorithm KNNWithMeans on 5 split(s).\n",
            "\n",
            "                  Fold 1  Fold 2  Fold 3  Fold 4  Fold 5  Mean    Std     \n",
            "MAE (testset)     0.7504  0.7357  0.7477  0.7425  0.7466  0.7446  0.0051  \n",
            "Fit time          1.03    1.07    1.10    1.05    1.08    1.07    0.02    \n",
            "Test time         3.42    3.29    3.28    3.41    3.30    3.34    0.06    \n",
            "\n",
            "Algorithm KNNWithZScoreC\n",
            "Computing the cosine similarity matrix...\n",
            "Done computing similarity matrix.\n",
            "Computing the cosine similarity matrix...\n",
            "Done computing similarity matrix.\n",
            "Computing the cosine similarity matrix...\n",
            "Done computing similarity matrix.\n",
            "Computing the cosine similarity matrix...\n",
            "Done computing similarity matrix.\n",
            "Computing the cosine similarity matrix...\n",
            "Done computing similarity matrix.\n",
            "Evaluating MAE of algorithm KNNWithZScore on 5 split(s).\n",
            "\n",
            "                  Fold 1  Fold 2  Fold 3  Fold 4  Fold 5  Mean    Std     \n",
            "MAE (testset)     0.7403  0.7446  0.7471  0.7361  0.7405  0.7417  0.0038  \n",
            "Fit time          1.55    1.53    1.54    1.62    1.57    1.56    0.03    \n",
            "Test time         4.29    4.14    4.05    4.22    4.14    4.17    0.08    \n",
            "\n",
            "Algorithm KNNWithZScoreP\n",
            "Estimating biases using als...\n",
            "Computing the pearson_baseline similarity matrix...\n",
            "Done computing similarity matrix.\n",
            "Estimating biases using als...\n",
            "Computing the pearson_baseline similarity matrix...\n",
            "Done computing similarity matrix.\n",
            "Estimating biases using als...\n",
            "Computing the pearson_baseline similarity matrix...\n",
            "Done computing similarity matrix.\n",
            "Estimating biases using als...\n",
            "Computing the pearson_baseline similarity matrix...\n",
            "Done computing similarity matrix.\n",
            "Estimating biases using als...\n",
            "Computing the pearson_baseline similarity matrix...\n",
            "Done computing similarity matrix.\n",
            "Evaluating MAE of algorithm KNNWithZScore on 5 split(s).\n",
            "\n",
            "                  Fold 1  Fold 2  Fold 3  Fold 4  Fold 5  Mean    Std     \n",
            "MAE (testset)     0.7515  0.7379  0.7399  0.7421  0.7419  0.7426  0.0047  \n",
            "Fit time          1.13    1.11    1.10    1.16    1.23    1.15    0.04    \n",
            "Test time         3.57    3.69    3.48    3.72    3.64    3.62    0.08    \n",
            "\n",
            "Algorithm KNNBaselineC\n",
            "Estimating biases using als...\n",
            "Computing the cosine similarity matrix...\n",
            "Done computing similarity matrix.\n",
            "Estimating biases using als...\n",
            "Computing the cosine similarity matrix...\n",
            "Done computing similarity matrix.\n",
            "Estimating biases using als...\n",
            "Computing the cosine similarity matrix...\n",
            "Done computing similarity matrix.\n",
            "Estimating biases using als...\n",
            "Computing the cosine similarity matrix...\n",
            "Done computing similarity matrix.\n",
            "Estimating biases using als...\n",
            "Computing the cosine similarity matrix...\n",
            "Done computing similarity matrix.\n",
            "Evaluating MAE of algorithm KNNBaseline on 5 split(s).\n",
            "\n",
            "                  Fold 1  Fold 2  Fold 3  Fold 4  Fold 5  Mean    Std     \n",
            "MAE (testset)     0.7470  0.7438  0.7407  0.7319  0.7431  0.7413  0.0051  \n",
            "Fit time          1.69    1.63    1.62    1.62    1.65    1.64    0.03    \n",
            "Test time         4.70    4.36    4.55    4.35    4.54    4.50    0.13    \n",
            "\n",
            "Algorithm KNNBaselineP\n",
            "Estimating biases using als...\n",
            "Computing the pearson_baseline similarity matrix...\n",
            "Done computing similarity matrix.\n",
            "Estimating biases using als...\n",
            "Computing the pearson_baseline similarity matrix...\n",
            "Done computing similarity matrix.\n",
            "Estimating biases using als...\n",
            "Computing the pearson_baseline similarity matrix...\n",
            "Done computing similarity matrix.\n",
            "Estimating biases using als...\n",
            "Computing the pearson_baseline similarity matrix...\n",
            "Done computing similarity matrix.\n",
            "Estimating biases using als...\n",
            "Computing the pearson_baseline similarity matrix...\n",
            "Done computing similarity matrix.\n",
            "Evaluating MAE of algorithm KNNBaseline on 5 split(s).\n",
            "\n",
            "                  Fold 1  Fold 2  Fold 3  Fold 4  Fold 5  Mean    Std     \n",
            "MAE (testset)     0.7283  0.7348  0.7253  0.7353  0.7248  0.7297  0.0045  \n",
            "Fit time          1.07    1.06    1.04    0.99    1.00    1.03    0.03    \n",
            "Test time         3.82    4.00    3.71    3.70    3.83    3.81    0.11    \n",
            "\n",
            "Algorithm SVD\n",
            "Evaluating MAE of algorithm SVD on 5 split(s).\n",
            "\n",
            "                  Fold 1  Fold 2  Fold 3  Fold 4  Fold 5  Mean    Std     \n",
            "MAE (testset)     0.7281  0.7387  0.7359  0.7453  0.7380  0.7372  0.0055  \n",
            "Fit time          4.55    4.53    4.57    4.53    4.53    4.54    0.02    \n",
            "Test time         0.15    0.32    0.15    0.33    0.15    0.22    0.08    \n",
            "\n",
            "Algorithm SVDpp\n",
            "Evaluating MAE of algorithm SVDpp on 5 split(s).\n",
            "\n",
            "                  Fold 1  Fold 2  Fold 3  Fold 4  Fold 5  Mean    Std     \n",
            "MAE (testset)     0.7182  0.7167  0.7229  0.7253  0.7243  0.7215  0.0034  \n",
            "Fit time          166.74  164.43  165.60  163.54  164.41  164.94  1.11    \n",
            "Test time         3.99    3.83    3.63    3.92    3.83    3.84    0.12    \n",
            "\n",
            "Algorithm NormalPredictor\n",
            "Evaluating MAE of algorithm NormalPredictor on 5 split(s).\n",
            "\n",
            "                  Fold 1  Fold 2  Fold 3  Fold 4  Fold 5  Mean    Std     \n",
            "MAE (testset)     1.2284  1.2206  1.2176  1.2192  1.2282  1.2228  0.0046  \n",
            "Fit time          0.12    0.15    0.14    0.15    0.14    0.14    0.01    \n",
            "Test time         0.15    0.13    0.14    0.13    0.31    0.17    0.07    \n"
          ],
          "name": "stdout"
        }
      ]
    },
    {
      "cell_type": "code",
      "metadata": {
        "colab": {
          "base_uri": "https://localhost:8080/"
        },
        "id": "PBiafzdCYN7M",
        "outputId": "506e64a2-5f38-417f-dfb2-d0785e72d9d6"
      },
      "source": [
        "trainset, testset = train_test_split(data, test_size=.3)\r\n",
        "\r\n",
        "for k in algorithms:\r\n",
        "  algorithm = algorithms[k]\r\n",
        "  print(f'\\nAlgorithm {k}')\r\n",
        "  algorithm.fit(trainset)\r\n",
        "  predictions = algorithm.test(testset)\r\n",
        "  accuracy.mae(predictions)\r\n"
      ],
      "execution_count": 14,
      "outputs": [
        {
          "output_type": "stream",
          "text": [
            "\n",
            "Algorithm KNNBasicC\n",
            "Computing the cosine similarity matrix...\n",
            "Done computing similarity matrix.\n",
            "MAE:  0.8186\n",
            "\n",
            "Algorithm KNNBasicP\n",
            "Estimating biases using als...\n",
            "Computing the pearson_baseline similarity matrix...\n",
            "Done computing similarity matrix.\n",
            "MAE:  0.8015\n",
            "\n",
            "Algorithm KNNWithMeansC\n",
            "Computing the cosine similarity matrix...\n",
            "Done computing similarity matrix.\n",
            "MAE:  0.7441\n",
            "\n",
            "Algorithm KNNWithMeansP\n",
            "Estimating biases using als...\n",
            "Computing the pearson_baseline similarity matrix...\n",
            "Done computing similarity matrix.\n",
            "MAE:  0.7497\n",
            "\n",
            "Algorithm KNNWithZScoreC\n",
            "Computing the cosine similarity matrix...\n",
            "Done computing similarity matrix.\n",
            "MAE:  0.7450\n",
            "\n",
            "Algorithm KNNWithZScoreP\n",
            "Estimating biases using als...\n",
            "Computing the pearson_baseline similarity matrix...\n",
            "Done computing similarity matrix.\n",
            "MAE:  0.7470\n",
            "\n",
            "Algorithm KNNBaselineC\n",
            "Estimating biases using als...\n",
            "Computing the cosine similarity matrix...\n",
            "Done computing similarity matrix.\n",
            "MAE:  0.7438\n",
            "\n",
            "Algorithm KNNBaselineP\n",
            "Estimating biases using als...\n",
            "Computing the pearson_baseline similarity matrix...\n",
            "Done computing similarity matrix.\n",
            "MAE:  0.7338\n",
            "\n",
            "Algorithm SVD\n",
            "MAE:  0.7392\n",
            "\n",
            "Algorithm SVDpp\n",
            "MAE:  0.7233\n",
            "\n",
            "Algorithm NormalPredictor\n",
            "MAE:  1.2174\n"
          ],
          "name": "stdout"
        }
      ]
    },
    {
      "cell_type": "code",
      "metadata": {
        "id": "IkxURHrjaVwr"
      },
      "source": [
        ""
      ],
      "execution_count": 7,
      "outputs": []
    }
  ]
}