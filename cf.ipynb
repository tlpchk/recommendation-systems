{
 "metadata": {
  "language_info": {
   "codemirror_mode": {
    "name": "ipython",
    "version": 3
   },
   "file_extension": ".py",
   "mimetype": "text/x-python",
   "name": "python",
   "nbconvert_exporter": "python",
   "pygments_lexer": "ipython3",
   "version": "3.8.7-final"
  },
  "orig_nbformat": 2,
  "kernelspec": {
   "name": "python3",
   "display_name": "Python 3.8.7 64-bit ('psr-venv': venv)",
   "metadata": {
    "interpreter": {
     "hash": "641701977810afbc02c2d0369c1c4a327bd2ca73f6ba471abea40b2893c60826"
    }
   }
  }
 },
 "nbformat": 4,
 "nbformat_minor": 2,
 "cells": [
  {
   "source": [
    "# Collaborative filtering using `surprise`"
   ],
   "cell_type": "markdown",
   "metadata": {}
  },
  {
   "cell_type": "code",
   "execution_count": 21,
   "metadata": {},
   "outputs": [],
   "source": [
    "from surprise import SVD\n",
    "from surprise import SVDpp\n",
    "from surprise import Dataset\n",
    "from surprise import accuracy\n",
    "from surprise.model_selection import cross_validate\n",
    "from surprise.model_selection import train_test_split\n",
    "from surprise.prediction_algorithms.random_pred import NormalPredictor"
   ]
  },
  {
   "cell_type": "code",
   "execution_count": 17,
   "metadata": {},
   "outputs": [],
   "source": [
    "data = Dataset.load_builtin('ml-100k')"
   ]
  },
  {
   "cell_type": "code",
   "execution_count": 11,
   "metadata": {},
   "outputs": [
    {
     "output_type": "stream",
     "name": "stdout",
     "text": [
      "Number of users:  943\n",
      "Number of movies:  1682\n",
      "Number of ratings:  100000\n",
      "Rating scale:  (1, 5)\n"
     ]
    }
   ],
   "source": [
    "full_data = data.build_full_trainset()\n",
    "print(\"Number of users: \", data.build_full_trainset().n_users)\n",
    "print(\"Number of movies: \", data.build_full_trainset().n_items)\n",
    "print(\"Number of ratings: \", data.build_full_trainset().n_ratings)\n",
    "print(\"Rating scale: \", data.build_full_trainset().rating_scale)"
   ]
  },
  {
   "cell_type": "code",
   "execution_count": 22,
   "metadata": {},
   "outputs": [],
   "source": [
    "svd = SVD()\n",
    "svdpp = SVDpp()\n",
    "rand = NormalPredictor()"
   ]
  },
  {
   "source": [
    "## CrossValidation"
   ],
   "cell_type": "markdown",
   "metadata": {}
  },
  {
   "cell_type": "code",
   "execution_count": 25,
   "metadata": {},
   "outputs": [
    {
     "output_type": "stream",
     "name": "stdout",
     "text": [
      "Evaluating MAE of algorithm SVD on 5 split(s).\n",
      "\n",
      "                  Fold 1  Fold 2  Fold 3  Fold 4  Fold 5  Mean    Std     \n",
      "MAE (testset)     0.7385  0.7373  0.7375  0.7405  0.7425  0.7392  0.0020  \n",
      "Fit time          5.04    4.87    4.80    5.45    5.88    5.21    0.40    \n",
      "Test time         0.18    0.13    0.27    0.13    0.15    0.17    0.05    \n",
      "Evaluating MAE of algorithm SVDpp on 5 split(s).\n",
      "\n",
      "                  Fold 1  Fold 2  Fold 3  Fold 4  Fold 5  Mean    Std     \n",
      "MAE (testset)     0.7206  0.7252  0.7210  0.7167  0.7243  0.7216  0.0030  \n",
      "Fit time          191.19  229.83  204.98  211.68  203.86  208.31  12.64   \n",
      "Test time         3.03    3.54    2.97    3.19    3.67    3.28    0.28    \n",
      "Evaluating MAE of algorithm NormalPredictor on 5 split(s).\n",
      "\n",
      "                  Fold 1  Fold 2  Fold 3  Fold 4  Fold 5  Mean    Std     \n",
      "MAE (testset)     1.2258  1.2243  1.2168  1.2190  1.2153  1.2202  0.0041  \n",
      "Fit time          0.10    0.28    0.12    0.12    0.16    0.15    0.06    \n",
      "Test time         0.62    0.31    0.13    0.13    0.40    0.32    0.18    \n"
     ]
    },
    {
     "output_type": "execute_result",
     "data": {
      "text/plain": [
       "{'test_mae': array([1.22578528, 1.22432402, 1.2168179 , 1.21899935, 1.215309  ]),\n",
       " 'fit_time': (0.09746003150939941,\n",
       "  0.27556514739990234,\n",
       "  0.11823701858520508,\n",
       "  0.11758995056152344,\n",
       "  0.15800189971923828),\n",
       " 'test_time': (0.6158480644226074,\n",
       "  0.3149087429046631,\n",
       "  0.12633109092712402,\n",
       "  0.13491082191467285,\n",
       "  0.40221405029296875)}"
      ]
     },
     "metadata": {},
     "execution_count": 25
    }
   ],
   "source": [
    "cross_validate(svd, data, measures=['MAE'], cv=5, verbose=True)\n",
    "cross_validate(svdpp, data, measures=['MAE'], cv=5, verbose=True)\n",
    "cross_validate(rand, data, measures=['MAE'], cv=5, verbose=True);"
   ]
  },
  {
   "source": [
    "## Train-Test split"
   ],
   "cell_type": "markdown",
   "metadata": {}
  },
  {
   "cell_type": "code",
   "execution_count": 24,
   "metadata": {},
   "outputs": [
    {
     "output_type": "stream",
     "name": "stdout",
     "text": [
      "MAE:  0.7420\nMAE:  0.7239\nMAE:  1.2216\n"
     ]
    },
    {
     "output_type": "execute_result",
     "data": {
      "text/plain": [
       "1.221561021946232"
      ]
     },
     "metadata": {},
     "execution_count": 24
    }
   ],
   "source": [
    "trainset, testset = train_test_split(data, test_size=.3)\n",
    "\n",
    "svd.fit(trainset)\n",
    "svdpp.fit(trainset)\n",
    "rand.fit(trainset)\n",
    "\n",
    "svd_predictions = svd.test(testset)\n",
    "svdpp_predictions = svdpp.test(testset)\n",
    "rand_predictions = rand.test(testset)\n",
    "\n",
    "accuracy.mae(svd_predictions)\n",
    "accuracy.mae(svdpp_predictions)\n",
    "accuracy.mae(rand_predictions);"
   ]
  }
 ]
}